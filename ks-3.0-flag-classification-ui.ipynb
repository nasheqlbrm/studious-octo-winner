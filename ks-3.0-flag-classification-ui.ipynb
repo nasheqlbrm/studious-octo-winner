{
 "cells": [
  {
   "cell_type": "code",
   "execution_count": 1,
   "id": "adverse-agent",
   "metadata": {},
   "outputs": [],
   "source": [
    "from fastai.vision.all import *\n",
    "from fastai.vision.widgets import *"
   ]
  },
  {
   "cell_type": "code",
   "execution_count": 2,
   "id": "empirical-automation",
   "metadata": {},
   "outputs": [],
   "source": [
    "# Load the serialized classifer\n",
    "path = Path()\n",
    "learn_inf = load_learner(path/'export.pkl', cpu=True)\n",
    "\n",
    "# GUI elements\n",
    "# Button to upload the flag image\n",
    "btn_upload = widgets.FileUpload()\n",
    "\n",
    "#out_pl is the output place holder\n",
    "out_pl = widgets.Output()\n",
    "\n",
    "# Label to hold the prediction\n",
    "lbl_pred = widgets.Label()"
   ]
  },
  {
   "cell_type": "code",
   "execution_count": 3,
   "id": "aboriginal-building",
   "metadata": {},
   "outputs": [],
   "source": [
    "def on_data_change(change):\n",
    "    lbl_pred.value = ''\n",
    "    img = PILImage.create(btn_upload.data[-1])\n",
    "    out_pl.clear_output()\n",
    "    with out_pl: display(img.to_thumb(128,128))\n",
    "    pred,pred_idx,probs = learn_inf.predict(img)\n",
    "    lbl_pred.value = f'Prediction: {pred}; Probability: {probs[pred_idx]:.04f}'"
   ]
  },
  {
   "cell_type": "code",
   "execution_count": 4,
   "id": "still-chambers",
   "metadata": {},
   "outputs": [],
   "source": [
    "btn_upload.observe(on_data_change, names=['data'])"
   ]
  },
  {
   "cell_type": "code",
   "execution_count": 5,
   "id": "front-engagement",
   "metadata": {},
   "outputs": [
    {
     "data": {
      "application/vnd.jupyter.widget-view+json": {
       "model_id": "41e2a91b1de24cb0bc94d50a04ebca6c",
       "version_major": 2,
       "version_minor": 0
      },
      "text/plain": [
       "VBox(children=(Label(value='Upload your flag:'), FileUpload(value={}, description='Upload'), Output(), Label(v…"
      ]
     },
     "metadata": {},
     "output_type": "display_data"
    },
    {
     "data": {
      "text/html": [],
      "text/plain": [
       "<IPython.core.display.HTML object>"
      ]
     },
     "metadata": {},
     "output_type": "display_data"
    }
   ],
   "source": [
    "display(VBox([widgets.Label('Upload your flag:'), btn_upload, out_pl, lbl_pred]))"
   ]
  },
  {
   "cell_type": "code",
   "execution_count": 6,
   "id": "naughty-mistress",
   "metadata": {},
   "outputs": [
    {
     "name": "stdout",
     "output_type": "stream",
     "text": [
      "Collecting voila\n",
      "  Downloading voila-0.2.7-py3-none-any.whl (2.5 MB)\n",
      "\u001b[K     |████████████████████████████████| 2.5 MB 18.1 MB/s eta 0:00:01\n",
      "\u001b[?25hCollecting nbconvert<7,>=6.0.0\n",
      "  Downloading nbconvert-6.0.7-py3-none-any.whl (552 kB)\n",
      "\u001b[K     |████████████████████████████████| 552 kB 106.5 MB/s eta 0:00:01\n",
      "\u001b[?25hRequirement already satisfied: nbclient<0.6,>=0.4.0 in /home/kaushik/anaconda3/envs/dljupyter/lib/python3.8/site-packages (from voila) (0.5.2)\n",
      "Collecting jupyter-server<2.0.0,>=0.3.0\n",
      "  Downloading jupyter_server-1.4.1-py3-none-any.whl (241 kB)\n",
      "\u001b[K     |████████████████████████████████| 241 kB 112.3 MB/s eta 0:00:01\n",
      "\u001b[?25hRequirement already satisfied: jupyter-client<7,>=6.1.3 in /home/kaushik/anaconda3/envs/dljupyter/lib/python3.8/site-packages (from voila) (6.1.7)\n",
      "Requirement already satisfied: traitlets in /home/kaushik/anaconda3/envs/dljupyter/lib/python3.8/site-packages (from jupyter-client<7,>=6.1.3->voila) (5.0.5)\n",
      "Requirement already satisfied: tornado>=4.1 in /home/kaushik/anaconda3/envs/dljupyter/lib/python3.8/site-packages (from jupyter-client<7,>=6.1.3->voila) (6.1)\n",
      "Requirement already satisfied: jupyter-core>=4.6.0 in /home/kaushik/anaconda3/envs/dljupyter/lib/python3.8/site-packages (from jupyter-client<7,>=6.1.3->voila) (4.7.1)\n",
      "Requirement already satisfied: pyzmq>=13 in /home/kaushik/anaconda3/envs/dljupyter/lib/python3.8/site-packages (from jupyter-client<7,>=6.1.3->voila) (20.0.0)\n",
      "Requirement already satisfied: python-dateutil>=2.1 in /home/kaushik/anaconda3/envs/dljupyter/lib/python3.8/site-packages (from jupyter-client<7,>=6.1.3->voila) (2.8.1)\n",
      "Requirement already satisfied: Send2Trash in /home/kaushik/anaconda3/envs/dljupyter/lib/python3.8/site-packages (from jupyter-server<2.0.0,>=0.3.0->voila) (1.5.0)\n",
      "Requirement already satisfied: terminado>=0.8.3 in /home/kaushik/anaconda3/envs/dljupyter/lib/python3.8/site-packages (from jupyter-server<2.0.0,>=0.3.0->voila) (0.9.2)\n",
      "Requirement already satisfied: jinja2 in /home/kaushik/anaconda3/envs/dljupyter/lib/python3.8/site-packages (from jupyter-server<2.0.0,>=0.3.0->voila) (2.11.3)\n",
      "Requirement already satisfied: nbformat in /home/kaushik/anaconda3/envs/dljupyter/lib/python3.8/site-packages (from jupyter-server<2.0.0,>=0.3.0->voila) (5.1.2)\n",
      "Requirement already satisfied: prometheus-client in /home/kaushik/anaconda3/envs/dljupyter/lib/python3.8/site-packages (from jupyter-server<2.0.0,>=0.3.0->voila) (0.9.0)\n",
      "Requirement already satisfied: ipython-genutils in /home/kaushik/anaconda3/envs/dljupyter/lib/python3.8/site-packages (from jupyter-server<2.0.0,>=0.3.0->voila) (0.2.0)\n",
      "Collecting anyio>=2.0.2\n",
      "  Downloading anyio-2.2.0-py3-none-any.whl (65 kB)\n",
      "\u001b[K     |████████████████████████████████| 65 kB 10.7 MB/s  eta 0:00:01\n",
      "\u001b[?25hCollecting sniffio>=1.1\n",
      "  Downloading sniffio-1.2.0-py3-none-any.whl (10 kB)\n",
      "Requirement already satisfied: idna>=2.8 in /home/kaushik/anaconda3/envs/dljupyter/lib/python3.8/site-packages (from anyio>=2.0.2->jupyter-server<2.0.0,>=0.3.0->voila) (2.10)\n",
      "Requirement already satisfied: nest-asyncio in /home/kaushik/anaconda3/envs/dljupyter/lib/python3.8/site-packages (from nbclient<0.6,>=0.4.0->voila) (1.5.1)\n",
      "Requirement already satisfied: async-generator in /home/kaushik/anaconda3/envs/dljupyter/lib/python3.8/site-packages (from nbclient<0.6,>=0.4.0->voila) (1.10)\n",
      "Requirement already satisfied: testpath in /home/kaushik/anaconda3/envs/dljupyter/lib/python3.8/site-packages (from nbconvert<7,>=6.0.0->voila) (0.4.4)\n",
      "Requirement already satisfied: mistune<2,>=0.8.1 in /home/kaushik/anaconda3/envs/dljupyter/lib/python3.8/site-packages (from nbconvert<7,>=6.0.0->voila) (0.8.4)\n",
      "Requirement already satisfied: bleach in /home/kaushik/anaconda3/envs/dljupyter/lib/python3.8/site-packages (from nbconvert<7,>=6.0.0->voila) (3.3.0)\n",
      "Requirement already satisfied: jupyterlab-pygments in /home/kaushik/anaconda3/envs/dljupyter/lib/python3.8/site-packages (from nbconvert<7,>=6.0.0->voila) (0.1.2)\n",
      "Requirement already satisfied: defusedxml in /home/kaushik/anaconda3/envs/dljupyter/lib/python3.8/site-packages (from nbconvert<7,>=6.0.0->voila) (0.6.0)\n",
      "Requirement already satisfied: entrypoints>=0.2.2 in /home/kaushik/anaconda3/envs/dljupyter/lib/python3.8/site-packages (from nbconvert<7,>=6.0.0->voila) (0.3)\n",
      "Requirement already satisfied: pygments>=2.4.1 in /home/kaushik/anaconda3/envs/dljupyter/lib/python3.8/site-packages (from nbconvert<7,>=6.0.0->voila) (2.8.0)\n",
      "Requirement already satisfied: pandocfilters>=1.4.1 in /home/kaushik/anaconda3/envs/dljupyter/lib/python3.8/site-packages (from nbconvert<7,>=6.0.0->voila) (1.4.3)\n",
      "Requirement already satisfied: MarkupSafe>=0.23 in /home/kaushik/anaconda3/envs/dljupyter/lib/python3.8/site-packages (from jinja2->jupyter-server<2.0.0,>=0.3.0->voila) (1.1.1)\n",
      "Requirement already satisfied: jsonschema!=2.5.0,>=2.4 in /home/kaushik/anaconda3/envs/dljupyter/lib/python3.8/site-packages (from nbformat->jupyter-server<2.0.0,>=0.3.0->voila) (3.0.2)\n",
      "Requirement already satisfied: six>=1.11.0 in /home/kaushik/anaconda3/envs/dljupyter/lib/python3.8/site-packages (from jsonschema!=2.5.0,>=2.4->nbformat->jupyter-server<2.0.0,>=0.3.0->voila) (1.15.0)\n",
      "Requirement already satisfied: pyrsistent>=0.14.0 in /home/kaushik/anaconda3/envs/dljupyter/lib/python3.8/site-packages (from jsonschema!=2.5.0,>=2.4->nbformat->jupyter-server<2.0.0,>=0.3.0->voila) (0.17.3)\n",
      "Requirement already satisfied: attrs>=17.4.0 in /home/kaushik/anaconda3/envs/dljupyter/lib/python3.8/site-packages (from jsonschema!=2.5.0,>=2.4->nbformat->jupyter-server<2.0.0,>=0.3.0->voila) (20.3.0)\n",
      "Requirement already satisfied: setuptools in /home/kaushik/anaconda3/envs/dljupyter/lib/python3.8/site-packages (from jsonschema!=2.5.0,>=2.4->nbformat->jupyter-server<2.0.0,>=0.3.0->voila) (52.0.0.post20210125)\n",
      "Requirement already satisfied: ptyprocess in /home/kaushik/anaconda3/envs/dljupyter/lib/python3.8/site-packages (from terminado>=0.8.3->jupyter-server<2.0.0,>=0.3.0->voila) (0.7.0)\n",
      "Requirement already satisfied: packaging in /home/kaushik/anaconda3/envs/dljupyter/lib/python3.8/site-packages (from bleach->nbconvert<7,>=6.0.0->voila) (20.9)\n",
      "Requirement already satisfied: webencodings in /home/kaushik/anaconda3/envs/dljupyter/lib/python3.8/site-packages (from bleach->nbconvert<7,>=6.0.0->voila) (0.5.1)\n",
      "Requirement already satisfied: pyparsing>=2.0.2 in /home/kaushik/anaconda3/envs/dljupyter/lib/python3.8/site-packages (from packaging->bleach->nbconvert<7,>=6.0.0->voila) (2.4.7)\n",
      "Installing collected packages: sniffio, nbconvert, anyio, jupyter-server, voila\n",
      "  Attempting uninstall: nbconvert\n",
      "    Found existing installation: nbconvert 5.6.1\n",
      "    Uninstalling nbconvert-5.6.1:\n",
      "      Successfully uninstalled nbconvert-5.6.1\n",
      "\u001b[31mERROR: pip's dependency resolver does not currently take into account all the packages that are installed. This behaviour is the source of the following dependency conflicts.\n",
      "spyder 4.1.5 requires pyqt5<5.13; python_version >= \"3\", which is not installed.\n",
      "spyder 4.1.5 requires pyqtwebengine<5.13; python_version >= \"3\", which is not installed.\n",
      "nbdev 1.1.13 requires nbconvert<6, but you have nbconvert 6.0.7 which is incompatible.\u001b[0m\n",
      "Successfully installed anyio-2.2.0 jupyter-server-1.4.1 nbconvert-6.0.7 sniffio-1.2.0 voila-0.2.7\n",
      "Enabling: voila\n",
      "- Writing config: /home/kaushik/anaconda3/envs/dljupyter/etc/jupyter\n",
      "    - Validating...\n",
      "      voila 0.2.7 \u001b[32mOK\u001b[0m\n"
     ]
    }
   ],
   "source": [
    "# !pip install voila\n",
    "# !jupyter serverextension enable --sys-prefix voila"
   ]
  },
  {
   "cell_type": "code",
   "execution_count": null,
   "id": "upper-internship",
   "metadata": {},
   "outputs": [],
   "source": []
  }
 ],
 "metadata": {
  "kernelspec": {
   "display_name": "Python 3",
   "language": "python",
   "name": "python3"
  },
  "language_info": {
   "codemirror_mode": {
    "name": "ipython",
    "version": 3
   },
   "file_extension": ".py",
   "mimetype": "text/x-python",
   "name": "python",
   "nbconvert_exporter": "python",
   "pygments_lexer": "ipython3",
   "version": "3.8.8"
  }
 },
 "nbformat": 4,
 "nbformat_minor": 5
}
